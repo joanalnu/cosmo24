{
 "cells": [
  {
   "cell_type": "markdown",
   "id": "df0c0275-efd1-44f3-b0dd-c5d1d0bf4141",
   "metadata": {},
   "source": [
    "# Final SN list (for SNCOSMO)"
   ]
  },
  {
   "cell_type": "markdown",
   "id": "3e04d9e3-aa7a-4d4b-a173-4aea1c7835f0",
   "metadata": {},
   "source": [
    "## Tasks:\n",
    "1. Read all objects in ATlAS/Reduced/ directory\n",
    "2. Check if a folder with the same name exists in /Volumes/PortableSSD/SOFI\n",
    "3. Return the name of the SN and save it in txt file"
   ]
  },
  {
   "cell_type": "code",
   "execution_count": 29,
   "id": "3560c2c7-8817-41e7-a27f-161ad2c6677c",
   "metadata": {},
   "outputs": [],
   "source": [
    "import os\n",
    "dirpath = os.path.dirname(os.path.abspath(__doc__))\n",
    "at_path = '/Users/j.alcaide/Documents/ICE_FASE2JiC/ATLAS/Reduced/ATLAS_Stacked'\n",
    "imgpath = '/Volumes/PortableSSD/SOFI'\n",
    "ztf_path = '/Users/j.alcaide/Documents/ICE_FASE2JiC/ZTF/Reduced/ZTF_files'\n",
    "\n",
    "img_folders = list()\n",
    "for item in os.listdir(imgpath):\n",
    "    if item[-4:]!='fits' and item[-4:]!='.csv':\n",
    "        img_folders.append(item.split('_')[0][2:])\n",
    "\n",
    "finallst = list()\n",
    "for file in os.listdir(at_path):\n",
    "    sn = file.split('_')[1]\n",
    "    finallst.append(sn)\n",
    "\n",
    "for file in os.listdir(ztf_path):\n",
    "    sn = file.split('_')[0][3:]\n",
    "    finallst.append(sn)\n",
    "\n",
    "for file in os.listdir(imgpath):\n",
    "    if file[-4:]!='fits' and file[-4:]!='.csv':\n",
    "        sn = file.split('_')[0]\n",
    "        if sn[:2]=='SN' or sn[:2]=='AT':\n",
    "            finallst.append(sn[2:])\n",
    "        else:\n",
    "            finallst.append(sn)\n",
    "\n",
    "finalset = set(finallst)\n",
    "with open('final_list.txt', 'w') as f:\n",
    "    f.writelines(f'{item}\\n' for item in finalset)"
   ]
  },
  {
   "cell_type": "code",
   "execution_count": null,
   "id": "3137bc1b-4c2a-461a-b446-b48780d25996",
   "metadata": {},
   "outputs": [],
   "source": []
  }
 ],
 "metadata": {
  "kernelspec": {
   "display_name": "Python 3 (ipykernel)",
   "language": "python",
   "name": "python3"
  },
  "language_info": {
   "codemirror_mode": {
    "name": "ipython",
    "version": 3
   },
   "file_extension": ".py",
   "mimetype": "text/x-python",
   "name": "python",
   "nbconvert_exporter": "python",
   "pygments_lexer": "ipython3",
   "version": "3.11.3"
  }
 },
 "nbformat": 4,
 "nbformat_minor": 5
}
